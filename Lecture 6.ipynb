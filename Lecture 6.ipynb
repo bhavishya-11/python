{
 "cells": [
  {
   "cell_type": "markdown",
   "id": "5a628c82-7a38-4b39-a092-d530eedc8c9a",
   "metadata": {},
   "source": [
    "# Functions in Python\n",
    "- Block of statements that perform a specific task."
   ]
  },
  {
   "cell_type": "raw",
   "id": "82f52a84-edd6-4cb4-a3c6-f91265911506",
   "metadata": {},
   "source": [
    "def func_name(par1,par2): # function definition: parameters\n",
    "    #some work\n",
    "    return val\n",
    "func_name(arg1,arg2) # function call: arguments"
   ]
  },
  {
   "cell_type": "code",
   "execution_count": 3,
   "id": "7d3c8bc0-5a3f-4802-a342-9f70f804f572",
   "metadata": {},
   "outputs": [
    {
     "name": "stdout",
     "output_type": "stream",
     "text": [
      "5\n",
      "-1\n"
     ]
    }
   ],
   "source": [
    "def sum(a,b):\n",
    "    print(a+b)\n",
    "sum(2,3)\n",
    "\n",
    "def diff(a,b):\n",
    "    return a-b\n",
    "difference = diff(2,3)\n",
    "print(difference)"
   ]
  },
  {
   "cell_type": "code",
   "execution_count": 5,
   "id": "b8b05c52-ee7f-4230-b32d-c5ad21d92180",
   "metadata": {},
   "outputs": [
    {
     "name": "stdout",
     "output_type": "stream",
     "text": [
      "bhavishya$chauhan\n"
     ]
    }
   ],
   "source": [
    "print(\"bhavishya\",\"chauhan\",sep=\"$\") #default sep =\" \""
   ]
  },
  {
   "cell_type": "code",
   "execution_count": 7,
   "id": "c7bf0ce0-51fd-44d5-b050-8e55e85cb876",
   "metadata": {},
   "outputs": [
    {
     "name": "stdout",
     "output_type": "stream",
     "text": [
      "bhavishya chauhan\n"
     ]
    }
   ],
   "source": [
    "print(\"bhavishya\",end=\" \")\n",
    "print(\"chauhan\") # default end =\\n"
   ]
  },
  {
   "cell_type": "markdown",
   "id": "e8dec81d-3e3c-45ec-add5-a3e1fcf48454",
   "metadata": {},
   "source": [
    "## Built-in function \n",
    "print(),len(),range()type()\n",
    "## User Defined Functions"
   ]
  },
  {
   "cell_type": "markdown",
   "id": "41a828e7-d6ed-42f7-90c1-9327b5b393b4",
   "metadata": {},
   "source": [
    "## Default Parameters\n",
    "- Assigning a default value to parameter, which is used when no argument is passed.\n",
    "- The default parameters should be given from last not to first parameter"
   ]
  },
  {
   "cell_type": "code",
   "execution_count": 10,
   "id": "f0596ee8-0827-4361-9f4f-6373e3700dcc",
   "metadata": {},
   "outputs": [
    {
     "ename": "TypeError",
     "evalue": "cal_sum() missing 2 required positional arguments: 'a' and 'b'",
     "output_type": "error",
     "traceback": [
      "\u001b[1;31m---------------------------------------------------------------------------\u001b[0m",
      "\u001b[1;31mTypeError\u001b[0m                                 Traceback (most recent call last)",
      "Cell \u001b[1;32mIn[10], line 3\u001b[0m\n\u001b[0;32m      1\u001b[0m \u001b[38;5;28;01mdef\u001b[39;00m \u001b[38;5;21mcal_sum\u001b[39m(a,b):\n\u001b[0;32m      2\u001b[0m     \u001b[38;5;28mprint\u001b[39m(a\u001b[38;5;241m+\u001b[39mb)\n\u001b[1;32m----> 3\u001b[0m cal_sum()\n",
      "\u001b[1;31mTypeError\u001b[0m: cal_sum() missing 2 required positional arguments: 'a' and 'b'"
     ]
    }
   ],
   "source": [
    "def cal_sum(a,b):\n",
    "    print(a+b)\n",
    "cal_sum()"
   ]
  },
  {
   "cell_type": "code",
   "execution_count": 11,
   "id": "67d8c51f-47d4-407a-8faa-6d635d741a6e",
   "metadata": {},
   "outputs": [
    {
     "name": "stdout",
     "output_type": "stream",
     "text": [
      "2\n"
     ]
    }
   ],
   "source": [
    "def cal_sum(a=1,b=1):\n",
    "    print(a+b)\n",
    "cal_sum()"
   ]
  },
  {
   "cell_type": "code",
   "execution_count": 12,
   "id": "71fa75c3-1ce6-4dc9-ae91-b3796b38ef3f",
   "metadata": {},
   "outputs": [
    {
     "name": "stdout",
     "output_type": "stream",
     "text": [
      "5\n"
     ]
    }
   ],
   "source": [
    "def cal_sum(a,b=2):\n",
    "    print(a+b)\n",
    "cal_sum(3)"
   ]
  },
  {
   "cell_type": "markdown",
   "id": "f6854f9e-9a43-4828-a5f2-eb01b2d0f1b2",
   "metadata": {},
   "source": [
    "### Let‘s Practice"
   ]
  },
  {
   "cell_type": "raw",
   "id": "7182bb70-1717-490f-aafa-acf295bedf24",
   "metadata": {},
   "source": [
    "1. WAF to print the length of a list. ( list is the parameter)"
   ]
  },
  {
   "cell_type": "code",
   "execution_count": 18,
   "id": "5b633951-2713-4309-95b8-56a05128388c",
   "metadata": {},
   "outputs": [
    {
     "name": "stdout",
     "output_type": "stream",
     "text": [
      "4\n"
     ]
    }
   ],
   "source": [
    "def print_len(list):\n",
    "    print(len(list))\n",
    "print_len([1,2,3,4])"
   ]
  },
  {
   "cell_type": "raw",
   "id": "11593a24-471b-48e9-9021-2f2503a70a1c",
   "metadata": {},
   "source": [
    "2. WAF to print the elements of a list in a single line. ( list is the parameter)"
   ]
  },
  {
   "cell_type": "code",
   "execution_count": 20,
   "id": "cfaa7c61-ca57-47bb-8d3e-917b6859c4bf",
   "metadata": {},
   "outputs": [
    {
     "name": "stdout",
     "output_type": "stream",
     "text": [
      "1 2 3 4 "
     ]
    }
   ],
   "source": [
    "def print_ele(list):\n",
    "    for i in list:\n",
    "        print(i,end=\" \")\n",
    "print_ele([1,2,3,4])"
   ]
  },
  {
   "cell_type": "raw",
   "id": "5d81ee3d-5651-4609-bab4-3b21ae845296",
   "metadata": {},
   "source": [
    "3. WAF to find the factorial of n. (n is the parameter)"
   ]
  },
  {
   "cell_type": "code",
   "execution_count": 22,
   "id": "3db83557-d06d-40a8-81ad-515047d276dc",
   "metadata": {},
   "outputs": [
    {
     "name": "stdout",
     "output_type": "stream",
     "text": [
      "24\n"
     ]
    }
   ],
   "source": [
    "def factorial(n):\n",
    "    i = 1\n",
    "    fact = 1\n",
    "    while (i<=n):\n",
    "        fact *=i\n",
    "        i+=1\n",
    "    print(fact)\n",
    "factorial(4)"
   ]
  },
  {
   "cell_type": "code",
   "execution_count": 23,
   "id": "40482e56-031c-4681-bc64-ae2e0f9b1381",
   "metadata": {},
   "outputs": [
    {
     "name": "stdout",
     "output_type": "stream",
     "text": [
      "24\n"
     ]
    }
   ],
   "source": [
    "def factorial(n):\n",
    "    fact = 1\n",
    "    for i in range(1,n+1):\n",
    "        fact *=i\n",
    "    print(fact)\n",
    "factorial(4)"
   ]
  },
  {
   "cell_type": "raw",
   "id": "fc849fdb-bf50-4ac4-a042-d70c01a308f4",
   "metadata": {},
   "source": [
    "4. WAF to convert USD to INR."
   ]
  },
  {
   "cell_type": "code",
   "execution_count": 27,
   "id": "b52ea4b0-20ca-47a2-a383-4f6adba13dcf",
   "metadata": {},
   "outputs": [
    {
     "name": "stdout",
     "output_type": "stream",
     "text": [
      "11.357183418512209\n"
     ]
    }
   ],
   "source": [
    "def usd_to_inr(usd):\n",
    "    inr = usd/88.05\n",
    "    print(inr)\n",
    "usd_to_inr(1000)"
   ]
  },
  {
   "cell_type": "code",
   "execution_count": 29,
   "id": "8f02637f-1eb4-47b8-91ce-89cd0c372349",
   "metadata": {},
   "outputs": [
    {
     "name": "stdin",
     "output_type": "stream",
     "text": [
      "enter a number 34\n"
     ]
    },
    {
     "name": "stdout",
     "output_type": "stream",
     "text": [
      "EVEN\n"
     ]
    }
   ],
   "source": [
    "def odd_or_even():\n",
    "    n = int(input(\"enter a number\"))\n",
    "    if n%2==0:\n",
    "        print(\"EVEN\")\n",
    "    else:\n",
    "        print(\"ODD\")\n",
    "odd_or_even()"
   ]
  },
  {
   "cell_type": "markdown",
   "id": "2f6b01f3-ae09-4e50-8baf-5076308de6b1",
   "metadata": {},
   "source": [
    "# Recursion \n",
    "- When a function calls itself repeatedly."
   ]
  },
  {
   "cell_type": "code",
   "execution_count": 34,
   "id": "88e2d5f8-fed4-4726-8cd7-357f1e28b13b",
   "metadata": {},
   "outputs": [
    {
     "name": "stdout",
     "output_type": "stream",
     "text": [
      "6\n",
      "5\n",
      "4\n",
      "3\n",
      "2\n",
      "1\n"
     ]
    }
   ],
   "source": [
    "# prints from n to 1 backwards\n",
    "def print_backward(n):\n",
    "    if(n==0):\n",
    "        return \n",
    "    print(n)\n",
    "    print_backward(n-1)\n",
    "print_backward(6)"
   ]
  },
  {
   "cell_type": "code",
   "execution_count": 36,
   "id": "53e11928-fb90-4934-a9cc-e53535780a8b",
   "metadata": {},
   "outputs": [
    {
     "name": "stdout",
     "output_type": "stream",
     "text": [
      "6\n",
      "5\n",
      "4\n",
      "3\n",
      "2\n",
      "1\n",
      "end\n",
      "end\n",
      "end\n",
      "end\n",
      "end\n",
      "end\n"
     ]
    }
   ],
   "source": [
    "def print_backward(n):\n",
    "    if(n==0):\n",
    "        return \n",
    "    print(n)\n",
    "    print_backward(n-1)\n",
    "    print(\"end\") # after hiting base case this statement will work\n",
    "print_backward(6)"
   ]
  },
  {
   "cell_type": "code",
   "execution_count": 38,
   "id": "ef83402a-b2e8-4e91-8f70-dae65406b840",
   "metadata": {},
   "outputs": [
    {
     "data": {
      "text/plain": [
       "120"
      ]
     },
     "execution_count": 38,
     "metadata": {},
     "output_type": "execute_result"
    }
   ],
   "source": [
    "# returns n!\n",
    "def factorial(n):\n",
    "    if(n==0 or n==1):\n",
    "        return 1\n",
    "    return factorial(n-1)*n\n",
    "factorial(5)"
   ]
  },
  {
   "cell_type": "markdown",
   "id": "c69b534f-b365-48b6-aa02-9d97bb669dc4",
   "metadata": {},
   "source": [
    "### Let‘s Practice"
   ]
  },
  {
   "cell_type": "raw",
   "id": "22ed7ea7-1bc1-4bc3-9e63-7e0440a8bd5e",
   "metadata": {},
   "source": [
    "1. Write a recursive function to calculate the sum of first n natural numbers."
   ]
  },
  {
   "cell_type": "code",
   "execution_count": 43,
   "id": "b5a6927f-e748-4a95-957c-3f85e72e666c",
   "metadata": {},
   "outputs": [
    {
     "name": "stdout",
     "output_type": "stream",
     "text": [
      "10\n"
     ]
    }
   ],
   "source": [
    "def cal_sum(n):\n",
    "    if (n == 1):\n",
    "        return 1\n",
    "    return cal_sum(n-1) + n\n",
    "print(cal_sum(4))    "
   ]
  },
  {
   "cell_type": "raw",
   "id": "bc4fdae9-6567-4c00-90db-a81debe98260",
   "metadata": {},
   "source": [
    "2. Write a recursive function to print all elements in a list.\n",
    "Hint : use list & index as parameters."
   ]
  },
  {
   "cell_type": "code",
   "execution_count": 50,
   "id": "e81e9ad2-780a-435a-b700-b23b0a4f2e19",
   "metadata": {},
   "outputs": [
    {
     "name": "stdout",
     "output_type": "stream",
     "text": [
      "1\n",
      "2\n",
      "3\n",
      "4\n"
     ]
    }
   ],
   "source": [
    "def print_ele(list,index=0):\n",
    "    if(index == len(list)):\n",
    "        return \n",
    "    print(list[index])\n",
    "    print_ele(list,index+1)\n",
    "print_ele([1,2,3,4])"
   ]
  }
 ],
 "metadata": {
  "kernelspec": {
   "display_name": "Python 3 (ipykernel)",
   "language": "python",
   "name": "python3"
  },
  "language_info": {
   "codemirror_mode": {
    "name": "ipython",
    "version": 3
   },
   "file_extension": ".py",
   "mimetype": "text/x-python",
   "name": "python",
   "nbconvert_exporter": "python",
   "pygments_lexer": "ipython3",
   "version": "3.12.7"
  }
 },
 "nbformat": 4,
 "nbformat_minor": 5
}
