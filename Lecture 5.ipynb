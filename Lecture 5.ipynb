{
 "cells": [
  {
   "cell_type": "markdown",
   "id": "b24e5680-3a04-46a3-b1bf-2c6c6a287591",
   "metadata": {},
   "source": [
    "# LOOPS IN PYTHON\n",
    "- Loops are used to repeat instructions.\n",
    "- 1. While Loop\n",
    "  2. For Loop\n",
    "  3. Do While Loop"
   ]
  },
  {
   "attachments": {},
   "cell_type": "markdown",
   "id": "e830af8a-303a-4102-8b90-38b8655a892e",
   "metadata": {
    "jp-MarkdownHeadingCollapsed": true
   },
   "source": [
    "## While Loop\n",
    "while condition:\n",
    "\n",
    "        Statements"
   ]
  },
  {
   "cell_type": "markdown",
   "id": "a3a2f31a-da2c-410d-801f-6696870478f5",
   "metadata": {},
   "source": [
    "1 loop is called 1 iteration and count,i,j or k are called iterators"
   ]
  },
  {
   "cell_type": "code",
   "execution_count": 2,
   "id": "638ca491-742b-40ab-a53f-424c8a3067b5",
   "metadata": {},
   "outputs": [
    {
     "name": "stdout",
     "output_type": "stream",
     "text": [
      "hello world\n",
      "hello world\n",
      "hello world\n",
      "hello world\n",
      "hello world\n",
      "6\n"
     ]
    }
   ],
   "source": [
    "count =1\n",
    "while count<=5:\n",
    "    print(\"hello world\")\n",
    "    count+=1\n",
    "print(count)"
   ]
  },
  {
   "cell_type": "code",
   "execution_count": 3,
   "id": "81e05bfe-094e-4265-8ecd-d762353045d1",
   "metadata": {},
   "outputs": [
    {
     "name": "stdout",
     "output_type": "stream",
     "text": [
      "1\n",
      "2\n",
      "3\n",
      "4\n",
      "5\n"
     ]
    }
   ],
   "source": [
    "count = 1\n",
    "while count<=5:\n",
    "    print(count)\n",
    "    count+=1"
   ]
  },
  {
   "cell_type": "code",
   "execution_count": 3,
   "id": "3f4f2d51-8850-448c-9acf-edcffb6b3085",
   "metadata": {},
   "outputs": [
    {
     "name": "stdout",
     "output_type": "stream",
     "text": [
      "5\n",
      "4\n",
      "3\n",
      "2\n",
      "1\n"
     ]
    }
   ],
   "source": [
    "count = 5\n",
    "while count>=1:\n",
    "    print(count)\n",
    "    count-=1"
   ]
  },
  {
   "cell_type": "markdown",
   "id": "37da06fa-c4a7-4118-a5ee-fd33845ed827",
   "metadata": {},
   "source": [
    "### Practice Questions"
   ]
  },
  {
   "cell_type": "raw",
   "id": "0de07e32-9159-4d41-8c1e-2824d2c6a8f4",
   "metadata": {},
   "source": [
    "1. Print numbers from 1 to 100."
   ]
  },
  {
   "cell_type": "code",
   "execution_count": 9,
   "id": "75d86be9-ef39-4f16-8f9b-71137c5b8e80",
   "metadata": {},
   "outputs": [
    {
     "name": "stdout",
     "output_type": "stream",
     "text": [
      "1,2,3,4,5,6,7,8,9,10,11,12,13,14,15,16,17,18,19,20,21,22,23,24,25,26,27,28,29,30,31,32,33,34,35,36,37,38,39,40,41,42,43,44,45,46,47,48,49,50,51,52,53,54,55,56,57,58,59,60,61,62,63,64,65,66,67,68,69,70,71,72,73,74,75,76,77,78,79,80,81,82,83,84,85,86,87,88,89,90,91,92,93,94,95,96,97,98,99,100,"
     ]
    }
   ],
   "source": [
    "i = 1\n",
    "while i<=100:\n",
    "    print(i,end=\",\") \n",
    "    i+=1"
   ]
  },
  {
   "cell_type": "raw",
   "id": "4324cb02-19c7-43b8-ad0f-793e1480bd07",
   "metadata": {},
   "source": [
    "2. Print numbers from 100 to 1."
   ]
  },
  {
   "cell_type": "code",
   "execution_count": 10,
   "id": "6ec0823c-5168-4884-aa26-a03ca69efd2d",
   "metadata": {},
   "outputs": [
    {
     "name": "stdout",
     "output_type": "stream",
     "text": [
      "100,99,98,97,96,95,94,93,92,91,90,89,88,87,86,85,84,83,82,81,80,79,78,77,76,75,74,73,72,71,70,69,68,67,66,65,64,63,62,61,60,59,58,57,56,55,54,53,52,51,50,49,48,47,46,45,44,43,42,41,40,39,38,37,36,35,34,33,32,31,30,29,28,27,26,25,24,23,22,21,20,19,18,17,16,15,14,13,12,11,10,9,8,7,6,5,4,3,2,1,"
     ]
    }
   ],
   "source": [
    "i = 100\n",
    "while i>=1:\n",
    "    print(i,end=\",\")\n",
    "    i-=1"
   ]
  },
  {
   "cell_type": "raw",
   "id": "30a9ec17-dc10-4c98-8aa4-a8d2e96b5341",
   "metadata": {},
   "source": [
    "3. Print the multiplication table of a number n."
   ]
  },
  {
   "cell_type": "code",
   "execution_count": 11,
   "id": "d7eccba9-c31b-47b6-a75e-85162ba5d94a",
   "metadata": {},
   "outputs": [
    {
     "name": "stdin",
     "output_type": "stream",
     "text": [
      "enter the number 2\n"
     ]
    },
    {
     "name": "stdout",
     "output_type": "stream",
     "text": [
      "2\n",
      "4\n",
      "6\n",
      "8\n",
      "10\n",
      "12\n",
      "14\n",
      "16\n",
      "18\n",
      "20\n"
     ]
    }
   ],
   "source": [
    "num = int(input(\"enter the number\"))\n",
    "i = 1\n",
    "while i<=10:\n",
    "    print(num*i)\n",
    "    i+=1"
   ]
  },
  {
   "cell_type": "raw",
   "id": "0e17c7d6-e7e0-47ca-8651-e950e6145448",
   "metadata": {},
   "source": [
    "4. Print the elements of the following list using a loop:\n",
    "[1, 4, 9, 16, 25, 36, 49, 64, 81,100]"
   ]
  },
  {
   "cell_type": "code",
   "execution_count": 12,
   "id": "26abe471-e156-41c3-9c75-f4abcc358402",
   "metadata": {},
   "outputs": [
    {
     "name": "stdout",
     "output_type": "stream",
     "text": [
      "1\n",
      "4\n",
      "9\n",
      "16\n",
      "25\n",
      "36\n",
      "49\n",
      "64\n",
      "81\n",
      "100\n"
     ]
    }
   ],
   "source": [
    "list1 = [1, 4, 9, 16, 25, 36, 49, 64, 81,100]\n",
    "i = 0\n",
    "while i < len(list1):\n",
    "    print(list1[i])\n",
    "    i+=1"
   ]
  },
  {
   "cell_type": "raw",
   "id": "87645884-3295-4964-997e-3f3326221afe",
   "metadata": {},
   "source": [
    "5. Search for a number x in this tuple using loop:\n",
    "(1, 4, 9, 16, 25, 36, 49, 64, 81,100)"
   ]
  },
  {
   "cell_type": "code",
   "execution_count": 3,
   "id": "377bc6e1-43f7-4451-8d1d-f6f631b851e0",
   "metadata": {},
   "outputs": [
    {
     "name": "stdout",
     "output_type": "stream",
     "text": [
      "3\n"
     ]
    }
   ],
   "source": [
    "tuple1 = (1, 4, 9, 16, 25, 36, 49, 64, 81,100)\n",
    "i = 0\n",
    "while i<len(tuple1):\n",
    "    if (tuple1[i] == 16):\n",
    "        print(i)\n",
    "    i+=1"
   ]
  },
  {
   "cell_type": "markdown",
   "id": "7acf96a2-6bcb-46e0-8c8d-6ddec2c7ec45",
   "metadata": {},
   "source": [
    "## Break and Continue Keywords"
   ]
  },
  {
   "cell_type": "markdown",
   "id": "b6bb2cbc-5e91-499d-b9c3-18de0b40e840",
   "metadata": {},
   "source": [
    "### Break : used to terminate the loop when encountered."
   ]
  },
  {
   "cell_type": "code",
   "execution_count": 8,
   "id": "1c9e283b-a036-4004-879c-e7916cf0f279",
   "metadata": {},
   "outputs": [
    {
     "name": "stdout",
     "output_type": "stream",
     "text": [
      "0\n",
      "1\n",
      "2\n",
      "end of looop\n"
     ]
    }
   ],
   "source": [
    "i = 0 \n",
    "while i<=5:\n",
    "    if (i == 3):\n",
    "        break;\n",
    "    print(i)\n",
    "    i+=1\n",
    "print(\"end of looop\")"
   ]
  },
  {
   "cell_type": "code",
   "execution_count": 10,
   "id": "07a1e61c-c20f-474d-8659-af092fe0060a",
   "metadata": {},
   "outputs": [
    {
     "name": "stdout",
     "output_type": "stream",
     "text": [
      "finding\n",
      "finding\n",
      "finding\n",
      "found at index 3\n",
      "finding\n",
      "finding\n",
      "finding\n",
      "finding\n",
      "finding\n",
      "finding\n"
     ]
    }
   ],
   "source": [
    "tuple1 = (1, 4, 9, 16, 25, 36, 49, 64, 81,100) #without using break statement, the loop will run 10 times\n",
    "i = 0\n",
    "while i<len(tuple1):\n",
    "    if (tuple1[i] == 16):\n",
    "        print(\"found at index\",i)\n",
    "        i+=1\n",
    "    else:\n",
    "        print(\"finding\")\n",
    "        i+=1"
   ]
  },
  {
   "cell_type": "code",
   "execution_count": 12,
   "id": "98e2d299-8899-449f-805a-9ac61acfe5c9",
   "metadata": {},
   "outputs": [
    {
     "name": "stdout",
     "output_type": "stream",
     "text": [
      "finding\n",
      "finding\n",
      "finding\n",
      "found at index 3\n"
     ]
    }
   ],
   "source": [
    "tuple1 = (1, 4, 9, 16, 25, 36, 49, 64, 81,100) #with using break statement, the loop will run 4 times\n",
    "i = 0\n",
    "while i<len(tuple1):\n",
    "    if (tuple1[i] == 16):\n",
    "        print(\"found at index\",i)\n",
    "        break\n",
    "    else:\n",
    "        print(\"finding\")\n",
    "        i+=1"
   ]
  },
  {
   "cell_type": "markdown",
   "id": "2acec39c-de80-47b7-ae96-83a793090876",
   "metadata": {},
   "source": [
    "### Continue : terminates execution in the current iteration & continues execution of the loop with the next iteration."
   ]
  },
  {
   "cell_type": "code",
   "execution_count": 14,
   "id": "c929b375-3fe4-428b-90a4-01cc077e3745",
   "metadata": {},
   "outputs": [
    {
     "name": "stdout",
     "output_type": "stream",
     "text": [
      "0\n",
      "1\n",
      "2\n",
      "4\n",
      "5\n"
     ]
    }
   ],
   "source": [
    "i = 0\n",
    "while i<=5:\n",
    "    if(i==3):\n",
    "        i+=1\n",
    "        continue\n",
    "    print(i)\n",
    "    i+=1"
   ]
  },
  {
   "cell_type": "code",
   "execution_count": 16,
   "id": "f478b5e3-9ce5-44d6-b159-a55b47c90b59",
   "metadata": {},
   "outputs": [
    {
     "name": "stdout",
     "output_type": "stream",
     "text": [
      "1\n",
      "3\n",
      "5\n",
      "7\n",
      "9\n"
     ]
    }
   ],
   "source": [
    "# print odd numbers\n",
    "i = 1\n",
    "while i<=10:\n",
    "    if(i%2==0):\n",
    "        i+=1\n",
    "        continue #skips the rest statements\n",
    "    print(i)\n",
    "    i+=1"
   ]
  },
  {
   "cell_type": "markdown",
   "id": "cf741eb3-f136-4ca6-948e-e1b2801f8fac",
   "metadata": {},
   "source": [
    "## For Loop\n",
    "for el in list:\n",
    "\n",
    "    Some work"
   ]
  },
  {
   "cell_type": "code",
   "execution_count": 17,
   "id": "49f1356a-19fd-40cf-993e-2d98fecb4284",
   "metadata": {},
   "outputs": [
    {
     "name": "stdout",
     "output_type": "stream",
     "text": [
      "1\n",
      "2\n",
      "3\n"
     ]
    }
   ],
   "source": [
    "list1 = [1,2,3]\n",
    "for el in list1:\n",
    "    print(el)"
   ]
  },
  {
   "cell_type": "code",
   "execution_count": 18,
   "id": "95131cf2-729a-4df3-9ce1-f31f3609b068",
   "metadata": {},
   "outputs": [
    {
     "name": "stdout",
     "output_type": "stream",
     "text": [
      "1\n",
      "2\n",
      "3\n",
      "4\n"
     ]
    }
   ],
   "source": [
    "tuple1 = (1,2,3,4)\n",
    "for el in tuple1:\n",
    "    print(el)"
   ]
  },
  {
   "cell_type": "code",
   "execution_count": 19,
   "id": "f3548709-82ae-41af-8c43-32ab4ea08adb",
   "metadata": {},
   "outputs": [
    {
     "name": "stdout",
     "output_type": "stream",
     "text": [
      "b\n",
      "h\n",
      "a\n",
      "v\n",
      "i\n",
      "s\n",
      "h\n",
      "y\n",
      "a\n"
     ]
    }
   ],
   "source": [
    "string1 = \"bhavishya\"\n",
    "for char in string1:\n",
    "    print(char)"
   ]
  },
  {
   "cell_type": "markdown",
   "id": "2d31ce4d-3140-49eb-b9ce-60f3fe252d81",
   "metadata": {
    "jp-MarkdownHeadingCollapsed": true
   },
   "source": [
    "## For loop with else\n",
    "for el in list:\n",
    "\n",
    "    #some work\n",
    "        \n",
    "else:\n",
    "\n",
    "    #work when loop ends\n",
    "else used as it doesn’t execute when break is used"
   ]
  },
  {
   "cell_type": "code",
   "execution_count": 20,
   "id": "b35b33f2-6506-4735-8fba-e70076e494d9",
   "metadata": {},
   "outputs": [
    {
     "name": "stdout",
     "output_type": "stream",
     "text": [
      "1\n",
      "2\n",
      "3\n",
      "END\n"
     ]
    }
   ],
   "source": [
    "for el in list1:\n",
    "    print(el)\n",
    "else:\n",
    "    print(\"END\")"
   ]
  },
  {
   "cell_type": "code",
   "execution_count": 23,
   "id": "cc9d00af-187e-4bb0-bdd8-bb33ea0b5bb6",
   "metadata": {},
   "outputs": [
    {
     "name": "stdout",
     "output_type": "stream",
     "text": [
      "1\n",
      "2\n"
     ]
    }
   ],
   "source": [
    "for el in list1:\n",
    "    if(el == 3):\n",
    "        break\n",
    "    print(el)\n",
    "else:\n",
    "    print(\"END\")"
   ]
  },
  {
   "cell_type": "markdown",
   "id": "5b445d15-367c-4f37-b4cd-27f091da8392",
   "metadata": {},
   "source": [
    "### Practice Questions"
   ]
  },
  {
   "cell_type": "raw",
   "id": "9c83ec84-7aaf-4517-8849-6738cf0f0a7e",
   "metadata": {},
   "source": [
    "1. Print the elements of the following list using a loop:\n",
    "[1, 4, 9, 16, 25, 36, 49, 64, 81,100]"
   ]
  },
  {
   "cell_type": "code",
   "execution_count": 25,
   "id": "9d01273b-315b-40e4-9051-19b22579941f",
   "metadata": {},
   "outputs": [
    {
     "name": "stdout",
     "output_type": "stream",
     "text": [
      "1\n",
      "4\n",
      "9\n",
      "16\n",
      "25\n",
      "36\n",
      "49\n",
      "64\n",
      "81\n",
      "100\n"
     ]
    }
   ],
   "source": [
    "list1 = [1, 4, 9, 16, 25, 36, 49, 64, 81,100]\n",
    "for val in list1:\n",
    "    print(val)"
   ]
  },
  {
   "cell_type": "raw",
   "id": "8ebf243b-f86e-4e92-bdd1-b4c806c8c68b",
   "metadata": {},
   "source": [
    "2. Search for a number x in this tuple using loop:\n",
    "(1, 4, 9, 16, 25, 36, 49, 64, 81,100)"
   ]
  },
  {
   "cell_type": "code",
   "execution_count": 28,
   "id": "d846d917-5fda-488e-b074-d53f85b09635",
   "metadata": {},
   "outputs": [
    {
     "name": "stdout",
     "output_type": "stream",
     "text": [
      "found at 5\n",
      "found at 10\n"
     ]
    }
   ],
   "source": [
    "tuple1 = (1, 4, 9, 16, 25, 36, 49, 64, 81,100,36)\n",
    "index=0\n",
    "for val in tuple1:\n",
    "    if(val == 36):\n",
    "        print(\"found at\",index) \n",
    "    index+=1"
   ]
  },
  {
   "cell_type": "markdown",
   "id": "403dfc4a-a5db-42dc-8c11-5f47b871520a",
   "metadata": {},
   "source": [
    "# range( )\n",
    "- Range functions returns a sequence of numbers, starting from 0 by default, and increments by 1 (by default), and stops before a specified number.\n",
    "- range( start?, stop, step?)"
   ]
  },
  {
   "cell_type": "code",
   "execution_count": 29,
   "id": "47e50ac1-8cc4-4d9a-b4b4-526df8410308",
   "metadata": {},
   "outputs": [
    {
     "name": "stdout",
     "output_type": "stream",
     "text": [
      "range(0, 5)\n"
     ]
    }
   ],
   "source": [
    "print(range(5))"
   ]
  },
  {
   "cell_type": "code",
   "execution_count": 30,
   "id": "805fb7e3-be90-4e42-afbe-e3401f0002a0",
   "metadata": {},
   "outputs": [
    {
     "name": "stdout",
     "output_type": "stream",
     "text": [
      "0\n",
      "1\n",
      "2\n",
      "3\n",
      "4\n"
     ]
    }
   ],
   "source": [
    "seq = range(5)\n",
    "for val in seq:\n",
    "    print(val)"
   ]
  },
  {
   "cell_type": "code",
   "execution_count": 32,
   "id": "bde1ae44-eb51-4cc7-af25-ef93fe181acf",
   "metadata": {},
   "outputs": [
    {
     "name": "stdout",
     "output_type": "stream",
     "text": [
      "hello\n",
      "hello\n",
      "hello\n",
      "hello\n",
      "hello\n"
     ]
    }
   ],
   "source": [
    "for _ in range(5):\n",
    "    print(\"hello\")"
   ]
  },
  {
   "cell_type": "code",
   "execution_count": 33,
   "id": "d9ad79dd-7fb6-41af-8762-1a7a397b9f20",
   "metadata": {},
   "outputs": [
    {
     "name": "stdout",
     "output_type": "stream",
     "text": [
      "2\n",
      "4\n",
      "6\n",
      "8\n"
     ]
    }
   ],
   "source": [
    "for el in range(2,10,2):\n",
    "    print(el) # prints even number "
   ]
  },
  {
   "cell_type": "code",
   "execution_count": 34,
   "id": "c3e40044-3822-413e-b64f-dbd5615f8a1d",
   "metadata": {},
   "outputs": [
    {
     "name": "stdout",
     "output_type": "stream",
     "text": [
      "2\n",
      "3\n",
      "4\n",
      "5\n",
      "6\n",
      "7\n",
      "8\n",
      "9\n"
     ]
    }
   ],
   "source": [
    "for el in range(2,10):\n",
    "    print(el)"
   ]
  },
  {
   "cell_type": "markdown",
   "id": "48393fbc-45ca-4f37-ad6f-6d8105b047e9",
   "metadata": {},
   "source": [
    "### Practice Questions"
   ]
  },
  {
   "cell_type": "raw",
   "id": "4faefa62-6d45-4eff-a7b3-c9300436eb76",
   "metadata": {},
   "source": [
    "1. Print numbers from 1 to 100."
   ]
  },
  {
   "cell_type": "code",
   "execution_count": 36,
   "id": "775882ba-f92f-44f3-b231-cf5944348b32",
   "metadata": {},
   "outputs": [
    {
     "name": "stdout",
     "output_type": "stream",
     "text": [
      "1 2 3 4 5 6 7 8 9 10 11 12 13 14 15 16 17 18 19 20 21 22 23 24 25 26 27 28 29 30 31 32 33 34 35 36 37 38 39 40 41 42 43 44 45 46 47 48 49 50 51 52 53 54 55 56 57 58 59 60 61 62 63 64 65 66 67 68 69 70 71 72 73 74 75 76 77 78 79 80 81 82 83 84 85 86 87 88 89 90 91 92 93 94 95 96 97 98 99 100 "
     ]
    }
   ],
   "source": [
    "for i in range(1,101):\n",
    "    print(i, end = \" \")"
   ]
  },
  {
   "cell_type": "raw",
   "id": "ddc17433-384e-4377-8280-38e6a05b0658",
   "metadata": {},
   "source": [
    "2. Print numbers from 100 to 1."
   ]
  },
  {
   "cell_type": "code",
   "execution_count": 39,
   "id": "e0ff1adc-7d81-43d2-af28-6aa354016d1a",
   "metadata": {},
   "outputs": [
    {
     "name": "stdout",
     "output_type": "stream",
     "text": [
      "100 99 98 97 96 95 94 93 92 91 90 89 88 87 86 85 84 83 82 81 80 79 78 77 76 75 74 73 72 71 70 69 68 67 66 65 64 63 62 61 60 59 58 57 56 55 54 53 52 51 50 49 48 47 46 45 44 43 42 41 40 39 38 37 36 35 34 33 32 31 30 29 28 27 26 25 24 23 22 21 20 19 18 17 16 15 14 13 12 11 10 9 8 7 6 5 4 3 2 1 "
     ]
    }
   ],
   "source": [
    "for i in range(100,0,-1):\n",
    "    print(i,end=\" \")"
   ]
  },
  {
   "cell_type": "raw",
   "id": "250a4e1f-6114-4c51-b983-f340b1d6bc09",
   "metadata": {},
   "source": [
    "3. Print the multiplication table of a number n."
   ]
  },
  {
   "cell_type": "code",
   "execution_count": 43,
   "id": "34593271-37c0-4935-b9d9-97da43f05869",
   "metadata": {},
   "outputs": [
    {
     "name": "stdin",
     "output_type": "stream",
     "text": [
      "enter the n 12\n"
     ]
    },
    {
     "name": "stdout",
     "output_type": "stream",
     "text": [
      "12\n",
      "24\n",
      "36\n",
      "48\n",
      "60\n",
      "72\n",
      "84\n",
      "96\n",
      "108\n",
      "120\n"
     ]
    }
   ],
   "source": [
    "n = int(input(\"enter the n\"))\n",
    "for i in range(1,11):\n",
    "    print(n*i)"
   ]
  },
  {
   "cell_type": "markdown",
   "id": "14474bce-b38d-4dd0-9c1c-cd100b187342",
   "metadata": {},
   "source": [
    "# PASS STATEMENT\n",
    "- pass is a null statement that does nothing. It is used as a placeholder for future code.\n",
    "- generally used in execption handling"
   ]
  },
  {
   "cell_type": "code",
   "execution_count": 44,
   "id": "5fefd2e1-7923-4071-802e-3e8ce5afb435",
   "metadata": {},
   "outputs": [],
   "source": [
    "for i in range(5):\n",
    "    pass"
   ]
  },
  {
   "cell_type": "code",
   "execution_count": 45,
   "id": "8eccb679-91cb-4f54-95a5-cbd40514116e",
   "metadata": {},
   "outputs": [],
   "source": [
    "if n==2:\n",
    "    pass"
   ]
  },
  {
   "cell_type": "markdown",
   "id": "462cefbd-dec7-4aa4-b5f9-8245cc202d2f",
   "metadata": {},
   "source": [
    "### Practice Questions"
   ]
  },
  {
   "cell_type": "raw",
   "id": "15cda8d0-ff15-45c2-ab86-60125a6b407d",
   "metadata": {},
   "source": [
    "1. WAP to find the sum of first n numbers. (using while)"
   ]
  },
  {
   "cell_type": "code",
   "execution_count": 47,
   "id": "fb333ed7-815c-4a6e-beea-39267672055f",
   "metadata": {},
   "outputs": [
    {
     "name": "stdin",
     "output_type": "stream",
     "text": [
      "enter the n =  3\n"
     ]
    },
    {
     "name": "stdout",
     "output_type": "stream",
     "text": [
      "6\n"
     ]
    }
   ],
   "source": [
    "n = int(input(\"enter the n = \"))\n",
    "count = 0\n",
    "total = 0 \n",
    "while count<=n:\n",
    "    total += count\n",
    "    count +=1\n",
    "print(total)"
   ]
  },
  {
   "cell_type": "raw",
   "id": "bfba42ba-9f22-4d03-9c0e-5fedde821809",
   "metadata": {},
   "source": [
    "2. WAP to find the factorial of first n numbers. (using for)"
   ]
  },
  {
   "cell_type": "code",
   "execution_count": 49,
   "id": "236f737d-8bd2-4d08-b932-17e33244e62a",
   "metadata": {},
   "outputs": [
    {
     "name": "stdin",
     "output_type": "stream",
     "text": [
      "enter the n =  4\n"
     ]
    },
    {
     "name": "stdout",
     "output_type": "stream",
     "text": [
      "24\n"
     ]
    }
   ],
   "source": [
    "n = int(input(\"enter the n = \"))\n",
    "fact = 1\n",
    "for i in range(1,n+1):\n",
    "    fact *= i\n",
    "print(fact)"
   ]
  }
 ],
 "metadata": {
  "kernelspec": {
   "display_name": "Python 3 (ipykernel)",
   "language": "python",
   "name": "python3"
  },
  "language_info": {
   "codemirror_mode": {
    "name": "ipython",
    "version": 3
   },
   "file_extension": ".py",
   "mimetype": "text/x-python",
   "name": "python",
   "nbconvert_exporter": "python",
   "pygments_lexer": "ipython3",
   "version": "3.12.7"
  }
 },
 "nbformat": 4,
 "nbformat_minor": 5
}
