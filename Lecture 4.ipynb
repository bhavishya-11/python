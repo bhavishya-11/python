{
 "cells": [
  {
   "cell_type": "markdown",
   "id": "f98152c5-8298-4d86-a756-05ce10bdf8f9",
   "metadata": {},
   "source": [
    "# DICTIONARY IN PYTHON\n",
    "- Dictionaries are used to store data values in key:value pairs\n",
    "- They are unordered, mutable(changeable) & don’t allow duplicate keys"
   ]
  },
  {
   "cell_type": "code",
   "execution_count": 4,
   "id": "9098a94b-0cd8-4a90-9a86-a075b41e7448",
   "metadata": {},
   "outputs": [
    {
     "name": "stdout",
     "output_type": "stream",
     "text": [
      "{'key': 'value', 1: 'one', 2: 'two'}\n"
     ]
    }
   ],
   "source": [
    "dict1 = {} # null dictionary\n",
    "dict1[\"key\"] = \"value\"\n",
    "dict1[1]=\"one\" # to asign or add a new element\n",
    "dict1[2]=\"two\"\n",
    "print(dict1)"
   ]
  },
  {
   "cell_type": "code",
   "execution_count": 8,
   "id": "89103aa1-6ae3-41d4-b84f-6f6d38a953d0",
   "metadata": {},
   "outputs": [
    {
     "name": "stdout",
     "output_type": "stream",
     "text": [
      "{'key': 'value', 1: 'apple', 2: 'banana', 'three': 3, 'four': [1, 2, 3, 4], 5: ('a', 'b', 'c')}\n",
      "value\n",
      "apple\n",
      "{'key': 'value', 1: 'one', 2: 'banana', 'three': 3, 'four': [1, 2, 3, 4], 5: ('a', 'b', 'c')}\n"
     ]
    }
   ],
   "source": [
    "# values can be of any data type, list, or tuple, and keys are only immutable objects(can't be lists)\n",
    "dict2 = {\"key\":\"value\",\n",
    "         1:\"apple\",\n",
    "         2:\"banana\",\n",
    "         \"three\":3,\n",
    "         \"four\":[1,2,3,4],\n",
    "         5:('a','b','c')}\n",
    "print(dict2)\n",
    "# accesing the value of keys\n",
    "print(dict2[\"key\"])\n",
    "print(dict2[1])\n",
    "# new vlaues can also be assigned to the existing keys\n",
    "dict2[1]=\"one\"\n",
    "print(dict2)"
   ]
  },
  {
   "cell_type": "markdown",
   "id": "abf20cb4-b8f1-4277-9264-c859bdf71509",
   "metadata": {
    "jp-MarkdownHeadingCollapsed": true
   },
   "source": [
    "## Nested Dictionary "
   ]
  },
  {
   "cell_type": "code",
   "execution_count": 14,
   "id": "0ee9eb85-6a42-4925-a470-ce2b02c34aed",
   "metadata": {},
   "outputs": [
    {
     "name": "stdout",
     "output_type": "stream",
     "text": [
      "{'name': 'Bhavishya', 'Subjects': {'chem': 97, 'maths': 94, 'physics': 89, 'english': 99}}\n",
      "97\n"
     ]
    }
   ],
   "source": [
    "student = {\n",
    "    \"name\":\"Bhavishya\",\n",
    "    \"Subjects\":{\n",
    "        \"chem\":97,\n",
    "        \"maths\":94,\n",
    "        \"physics\":89,\n",
    "        \"english\":99\n",
    "    }\n",
    "}\n",
    "print(student)\n",
    "print(student[\"Subjects\"][\"chem\"]) "
   ]
  },
  {
   "cell_type": "markdown",
   "id": "5c5e2ef2-4730-4a4b-8866-53f514dbfbac",
   "metadata": {},
   "source": [
    "## Dictionary Methods"
   ]
  },
  {
   "cell_type": "code",
   "execution_count": 20,
   "id": "fa7f0cf5-7bb8-41f5-b730-5f8c40d8e78e",
   "metadata": {},
   "outputs": [
    {
     "name": "stdout",
     "output_type": "stream",
     "text": [
      "dict_keys([1, 2, 3, 4])\n",
      "[1, 2, 3, 4]\n",
      "(1, 2, 3, 4)\n"
     ]
    }
   ],
   "source": [
    "mydict = {1:\"one\",2:\"two\",3:\"three\",4:\"four\"}\n",
    "print(mydict.keys()) # returns all keys\n",
    "print(list(mydict.keys()))\n",
    "print(tuple(mydict.keys()))"
   ]
  },
  {
   "cell_type": "code",
   "execution_count": 23,
   "id": "79a8e47a-8308-4478-847d-56a3909e3472",
   "metadata": {},
   "outputs": [
    {
     "name": "stdout",
     "output_type": "stream",
     "text": [
      "dict_values(['one', 'two', 'three', 'four'])\n",
      "['one', 'two', 'three', 'four']\n"
     ]
    }
   ],
   "source": [
    "print(mydict.values()) #returns all values\n",
    "print(list(mydict.values()))"
   ]
  },
  {
   "cell_type": "code",
   "execution_count": 26,
   "id": "d566889e-5d45-4ab0-ae0b-74efd714e1b7",
   "metadata": {},
   "outputs": [
    {
     "name": "stdout",
     "output_type": "stream",
     "text": [
      "dict_items([(1, 'one'), (2, 'two'), (3, 'three'), (4, 'four')])\n",
      "(1, 'one')\n"
     ]
    }
   ],
   "source": [
    "print(mydict.items()) #returns all (key, value) pairs\n",
    "pairs = list(mydict.items())\n",
    "print(pairs[0])"
   ]
  },
  {
   "cell_type": "code",
   "execution_count": 34,
   "id": "d5fd483f-fa95-40eb-9173-281d77836926",
   "metadata": {},
   "outputs": [
    {
     "name": "stdout",
     "output_type": "stream",
     "text": [
      "one\n",
      "None\n"
     ]
    }
   ],
   "source": [
    "print(mydict.get(1)) #returns the key according to value\n",
    "print(mydict.get(10)) # if we wrote mydict[10] that would have given error"
   ]
  },
  {
   "cell_type": "code",
   "execution_count": 37,
   "id": "062316ba-a34e-4f27-8080-c493d6cd72cf",
   "metadata": {},
   "outputs": [
    {
     "name": "stdout",
     "output_type": "stream",
     "text": [
      "{1: 'one', 2: 'two', 3: 'three', 4: 'four', 'key': 'value'}\n",
      "{1: 'one', 2: 'two', 3: 'three', 4: 'four', 'key': 'value', 'name': 'bhavishya'}\n"
     ]
    }
   ],
   "source": [
    "mydict.update({\"key\":\"value\"}) #inserts the specified items to the dictionary\n",
    "print(mydict)\n",
    "update1 = {\"name\":\"bhavishya\"}\n",
    "mydict.update(update1)\n",
    "print(mydict)"
   ]
  },
  {
   "cell_type": "markdown",
   "id": "a8a091ec-c16d-47ad-90b3-6534dfc12ed0",
   "metadata": {},
   "source": [
    "# SETS IN PYTHON\n",
    "- Set is the collection of the unordered items.\n",
    "- Each element in the set must be unique & immutable. In sets we cant store list and dict"
   ]
  },
  {
   "cell_type": "code",
   "execution_count": 2,
   "id": "f65a303e-306e-41bf-81e1-ee95871c3305",
   "metadata": {},
   "outputs": [
    {
     "name": "stdout",
     "output_type": "stream",
     "text": [
      "{1, 2, 3, 4, 5}\n",
      "<class 'set'>\n"
     ]
    }
   ],
   "source": [
    "collection = {1,2,3,4,5}\n",
    "print(collection)\n",
    "print(type(collection))"
   ]
  },
  {
   "cell_type": "code",
   "execution_count": 5,
   "id": "6c472e4f-b4d8-4686-927c-d5cfa168734c",
   "metadata": {},
   "outputs": [
    {
     "name": "stdout",
     "output_type": "stream",
     "text": [
      "<class 'dict'>\n",
      "<class 'set'>\n"
     ]
    }
   ],
   "source": [
    "collection1 = {} # will empty create dictionary\n",
    "print(type(collection1))\n",
    "# empty set\n",
    "collection2 = set()\n",
    "print(type(collection2))"
   ]
  },
  {
   "cell_type": "code",
   "execution_count": 8,
   "id": "79363520-27e1-44a9-8473-8eb9f5d68d4a",
   "metadata": {},
   "outputs": [
    {
     "name": "stdout",
     "output_type": "stream",
     "text": [
      "{1, 2, 3, 4, 5, 'hello', 'world'}\n",
      "7\n"
     ]
    }
   ],
   "source": [
    "collection = {1,2,3,4,3,2,5,\"hello\",\"world\",\"hello\"}\n",
    "print(collection) # set only stores unique value\n",
    "print(len(collection)) # counts the unique value"
   ]
  },
  {
   "cell_type": "markdown",
   "id": "733e5b76-24bf-4d10-a955-e73f3d086264",
   "metadata": {},
   "source": [
    "## Set Methods\n",
    "Sets are mutable, but set elements are immutable"
   ]
  },
  {
   "cell_type": "code",
   "execution_count": 9,
   "id": "f41d0522-6807-4772-a9ce-010d1579a95a",
   "metadata": {},
   "outputs": [
    {
     "name": "stdout",
     "output_type": "stream",
     "text": [
      "{1, 3, 4}\n"
     ]
    }
   ],
   "source": [
    "collection = set()\n",
    "collection.add(3)# set.add(el) adds el in the set\n",
    "collection.add(4)\n",
    "collection.add(1)\n",
    "print(collection)"
   ]
  },
  {
   "cell_type": "code",
   "execution_count": 10,
   "id": "a68c970c-8243-44cb-9035-95d8c6e4e31b",
   "metadata": {},
   "outputs": [
    {
     "name": "stdout",
     "output_type": "stream",
     "text": [
      "{1, 4, 5}\n"
     ]
    }
   ],
   "source": [
    "collection = {1,2,3,4,5}\n",
    "collection.remove(3) #set.remove(el) removes an el\n",
    "collection.remove(2)\n",
    "print(collection)"
   ]
  },
  {
   "cell_type": "code",
   "execution_count": 12,
   "id": "d41eaf20-3887-419b-864f-5964836243e9",
   "metadata": {},
   "outputs": [
    {
     "name": "stdout",
     "output_type": "stream",
     "text": [
      "5\n",
      "0\n"
     ]
    }
   ],
   "source": [
    "collection = {1,2,3,4,\"hello\"}\n",
    "print(len(collection))\n",
    "collection.clear() # empties the set\n",
    "print(len(collection))"
   ]
  },
  {
   "cell_type": "code",
   "execution_count": 18,
   "id": "b548f148-3b1d-4429-b7f5-079a87ce70fe",
   "metadata": {},
   "outputs": [
    {
     "name": "stdout",
     "output_type": "stream",
     "text": [
      "{5, 6, 7, 'hello', 'world'}\n"
     ]
    }
   ],
   "source": [
    "collection = {2,2,3,4,5,6,7,\"hello\",\"world\"}\n",
    "collection.pop() # removes an random el\n",
    "collection.pop()\n",
    "collection.pop()\n",
    "print(collection)"
   ]
  },
  {
   "cell_type": "code",
   "execution_count": 19,
   "id": "27c7f3f8-6c8b-4045-81f0-a3fd6f955ce1",
   "metadata": {},
   "outputs": [
    {
     "name": "stdout",
     "output_type": "stream",
     "text": [
      "{1, 2, 3, 4, 6, 7}\n",
      "{2, 3}\n"
     ]
    }
   ],
   "source": [
    "set1 = {1,2,3,4}\n",
    "set2 = {2,3,6,7}\n",
    "print(set1.union(set2)) #combines both set values & returns new\n",
    "print(set1.intersection(set2)) #combines common values & returns new"
   ]
  },
  {
   "cell_type": "markdown",
   "id": "9ba4dbc5-e427-453d-9615-7224a40ad478",
   "metadata": {},
   "source": [
    "## Practice Questions"
   ]
  },
  {
   "cell_type": "raw",
   "id": "afd2328a-ae3e-48e2-b09b-61f4d7a8364f",
   "metadata": {},
   "source": [
    "1. Store following word meanings in a python dictionary :\n",
    "table : “a piece of furniture”,“list of facts & figures”\n",
    "cat : “a small animal”"
   ]
  },
  {
   "cell_type": "code",
   "execution_count": 22,
   "id": "b2a0d4e5-b3bc-4411-8855-dc169dafa34d",
   "metadata": {},
   "outputs": [
    {
     "name": "stdout",
     "output_type": "stream",
     "text": [
      "{'table': ['a piece of furniture', 'List of facts and figures'], 'cat': 'a small animal'}\n"
     ]
    }
   ],
   "source": [
    "meanings = {\"table\":[\"a piece of furniture\",\"List of facts and figures\"],\n",
    "            \"cat\":\"a small animal\"}\n",
    "print(meanings)"
   ]
  },
  {
   "cell_type": "raw",
   "id": "cf31b126-eb27-416b-b6c0-2b71f80fc27f",
   "metadata": {},
   "source": [
    "2. You are given a list of subjects for students. Assume one classroom is required for 1\n",
    "subject. How many classrooms are needed by all students.\n",
    "”python”,“java”,“C++”,“python”,“javascript”,“java”,“python”,“java”,“C++”,“C”"
   ]
  },
  {
   "cell_type": "code",
   "execution_count": 23,
   "id": "db47ef7a-d880-44e8-8fa7-42180c859be5",
   "metadata": {},
   "outputs": [
    {
     "name": "stdout",
     "output_type": "stream",
     "text": [
      "5\n"
     ]
    }
   ],
   "source": [
    "classroom = {\"python\",\"java\",\"c++\",\"python\",\"javascript\",\"java\",\"c++\",\"c\",\"python\",\"java\"}\n",
    "print(len(classroom))"
   ]
  },
  {
   "cell_type": "raw",
   "id": "934f4672-4939-4e63-ba88-466704fb3cf6",
   "metadata": {},
   "source": [
    "3. WAP to enter marks of 3 subjects from the user and store them in a dictionary. Start with\n",
    "an empty dictionary & add one by one. Use subject name as key & marks as value."
   ]
  },
  {
   "cell_type": "code",
   "execution_count": 25,
   "id": "2027fe6b-35ac-4180-b4ff-446209a02846",
   "metadata": {},
   "outputs": [
    {
     "name": "stdin",
     "output_type": "stream",
     "text": [
      "enter phy marks 45\n",
      "enter chem marks 34\n",
      "enter math marks 50\n"
     ]
    },
    {
     "name": "stdout",
     "output_type": "stream",
     "text": [
      "{'phy': 45, 'chem': 34, 'math': 50}\n"
     ]
    }
   ],
   "source": [
    "student = {}\n",
    "student[\"phy\"] = int(input(\"enter phy marks\")) \n",
    "student[\"chem\"] = int(input(\"enter chem marks\"))\n",
    "student[\"math\"] = int(input(\"enter math marks\"))\n",
    "print(student)"
   ]
  },
  {
   "cell_type": "code",
   "execution_count": 29,
   "id": "a84d9fbb-f83e-4e06-a330-0f56c527efe6",
   "metadata": {},
   "outputs": [
    {
     "name": "stdin",
     "output_type": "stream",
     "text": [
      "enter phy marks 34\n",
      "enter chem marks 23\n",
      "enter math marks 21\n"
     ]
    },
    {
     "name": "stdout",
     "output_type": "stream",
     "text": [
      "{'phy': 34, 'chem': 23, 'math': 21}\n"
     ]
    }
   ],
   "source": [
    "student = {}\n",
    "phy = int(input(\"enter phy marks\"))\n",
    "student.update({\"phy\":phy})\n",
    "\n",
    "chem = int(input(\"enter chem marks\"))\n",
    "student.update({\"chem\": chem})\n",
    "\n",
    "math = int(input(\"enter math marks\"))\n",
    "student.update({\"math\":math})\n",
    "print(student)"
   ]
  },
  {
   "cell_type": "raw",
   "id": "2d9723c5-be0b-4c2c-98b2-61076d44573b",
   "metadata": {},
   "source": [
    "Figure out a way to store 9 & 9.0 as separate values in the set.\n",
    "(You can take help of built-in data types)"
   ]
  },
  {
   "cell_type": "code",
   "execution_count": 41,
   "id": "c28a77fa-b8be-4019-9913-27d792345ec3",
   "metadata": {},
   "outputs": [
    {
     "name": "stdout",
     "output_type": "stream",
     "text": [
      "{('float', 9.0), ('int', 9)}\n"
     ]
    }
   ],
   "source": [
    "values = {(\"int\",9),(\"float\",9.0)}\n",
    "print(values)"
   ]
  },
  {
   "cell_type": "code",
   "execution_count": 40,
   "id": "31452283-0749-45e5-b818-ffdfb05cb30d",
   "metadata": {},
   "outputs": [
    {
     "name": "stdout",
     "output_type": "stream",
     "text": [
      "{9, '9.0'}\n"
     ]
    }
   ],
   "source": [
    "values = {9,\"9.0\"}\n",
    "print(values)"
   ]
  }
 ],
 "metadata": {
  "kernelspec": {
   "display_name": "Python 3 (ipykernel)",
   "language": "python",
   "name": "python3"
  },
  "language_info": {
   "codemirror_mode": {
    "name": "ipython",
    "version": 3
   },
   "file_extension": ".py",
   "mimetype": "text/x-python",
   "name": "python",
   "nbconvert_exporter": "python",
   "pygments_lexer": "ipython3",
   "version": "3.12.7"
  }
 },
 "nbformat": 4,
 "nbformat_minor": 5
}
