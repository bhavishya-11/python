{
 "cells": [
  {
   "cell_type": "markdown",
   "id": "83351557-4c38-4005-b747-b1c388db49dd",
   "metadata": {},
   "source": [
    "# STRINGS \n",
    "- String is data type that stores a sequence of characters."
   ]
  },
  {
   "cell_type": "code",
   "execution_count": 6,
   "id": "fe838802-50f6-49b7-9008-42f100b6fff7",
   "metadata": {},
   "outputs": [
    {
     "name": "stdout",
     "output_type": "stream",
     "text": [
      "hello world\n",
      "hello world\n",
      "hello world\n",
      "Bhavishya's notes\n",
      "hello my name is \"Bhavishya\"\n"
     ]
    }
   ],
   "source": [
    "print(\"hello world\")\n",
    "print('hello world')\n",
    "print(\"\"\"hello world\"\"\")\n",
    "print(\"Bhavishya's notes\")\n",
    "print('hello my name is \"Bhavishya\"')"
   ]
  },
  {
   "cell_type": "markdown",
   "id": "1872adb9-b044-4f8f-b17c-e834a78571b1",
   "metadata": {},
   "source": [
    "## Escape Sequence Characters\n",
    "- \\t for tab\n",
    "- \\n for new line"
   ]
  },
  {
   "cell_type": "code",
   "execution_count": 7,
   "id": "bbbeb09b-37ab-4d4e-b24f-b5d78f598317",
   "metadata": {},
   "outputs": [
    {
     "name": "stdout",
     "output_type": "stream",
     "text": [
      "This is a string.\n",
      "we are creating in python\n"
     ]
    }
   ],
   "source": [
    "string = \"This is a string.\\nwe are creating in python\"\n",
    "print(string)"
   ]
  },
  {
   "cell_type": "code",
   "execution_count": 20,
   "id": "20c56048-1a75-45d5-86e0-d81db28dae73",
   "metadata": {},
   "outputs": [
    {
     "name": "stdout",
     "output_type": "stream",
     "text": [
      "this is a string.\twe are creating in python\n"
     ]
    }
   ],
   "source": [
    "string = \"this is a string.\\twe are creating in python\"\n",
    "print(string)"
   ]
  },
  {
   "cell_type": "markdown",
   "id": "0073c609-dc76-4931-b6ab-f494f54f099b",
   "metadata": {},
   "source": [
    "## Basic operations in string\n",
    "- Concatenation --> \"hello\" + \"world\" = \"helloworld\" \n",
    "- Length of str --> len(str)"
   ]
  },
  {
   "cell_type": "code",
   "execution_count": 11,
   "id": "e32592ae-8cb2-4463-9536-4df42584a7bd",
   "metadata": {},
   "outputs": [
    {
     "name": "stdout",
     "output_type": "stream",
     "text": [
      "helloworld\n",
      "hello world\n"
     ]
    }
   ],
   "source": [
    "str1 = \"hello\"\n",
    "str2 = \"world\"\n",
    "print(str1+str2)\n",
    "print(str1+\" \"+str2)"
   ]
  },
  {
   "cell_type": "code",
   "execution_count": 15,
   "id": "c4517a15-1a00-4292-9264-aa84020672f8",
   "metadata": {},
   "outputs": [
    {
     "name": "stdout",
     "output_type": "stream",
     "text": [
      "5\n",
      "5\n"
     ]
    }
   ],
   "source": [
    "print(len(str1))\n",
    "print(len(str2)) # len() function also count spaces \" \""
   ]
  },
  {
   "cell_type": "markdown",
   "id": "46ef2e95-307d-43f6-918c-97a881d26667",
   "metadata": {},
   "source": [
    "## Indexing \n",
    "- In python indexing starts from 0\n",
    "- Indexing helps in accesing string elements\n",
    "- you can not change elements --> Str[0]= \"C\""
   ]
  },
  {
   "cell_type": "code",
   "execution_count": 17,
   "id": "d3855f5f-65fb-4b0c-9b05-b18ecd7778b6",
   "metadata": {},
   "outputs": [
    {
     "name": "stdout",
     "output_type": "stream",
     "text": [
      "B\n"
     ]
    }
   ],
   "source": [
    "Str = \"Bhavishya\"\n",
    "ch=Str[0] \n",
    "print(ch)"
   ]
  },
  {
   "cell_type": "markdown",
   "id": "232a5790-2473-412a-8cce-7977c620b852",
   "metadata": {},
   "source": [
    "## Slicing\n",
    "- Accessing parts of a string\n",
    "- str[starting index:ending index] ending index is not included"
   ]
  },
  {
   "cell_type": "code",
   "execution_count": 24,
   "id": "fbb65b28-7511-4974-8257-223018192f85",
   "metadata": {},
   "outputs": [
    {
     "name": "stdout",
     "output_type": "stream",
     "text": [
      "pl\n",
      "Appl\n",
      "ple\n"
     ]
    }
   ],
   "source": [
    "String = \"Apple\"\n",
    "print(String[2:4])\n",
    "print(String[:4]) # String[0:4]\n",
    "print(String[2:]) # String[2:len(String)"
   ]
  },
  {
   "attachments": {
    "d7ba5879-2763-4821-a617-ecdfeb58d168.png": {
     "image/png": "[encoded data removed]"
    }
   },
   "cell_type": "markdown",
   "id": "e7ba969e-686c-4d14-b5a5-aa4fd85c2708",
   "metadata": {},
   "source": [
    "#### negative slicing\n",
    "![image.png](attachment:d7ba5879-2763-4821-a617-ecdfeb58d168.png)"
   ]
  },
  {
   "cell_type": "code",
   "execution_count": 26,
   "id": "7c647a41-7b5d-4922-a3f0-bfc094c5c250",
   "metadata": {},
   "outputs": [
    {
     "name": "stdout",
     "output_type": "stream",
     "text": [
      "pl\n"
     ]
    }
   ],
   "source": [
    "print(String[-3:-1])"
   ]
  },
  {
   "cell_type": "markdown",
   "id": "8d85a439-59cf-4401-9fcc-ee3c3083f253",
   "metadata": {},
   "source": [
    "## String Functions"
   ]
  },
  {
   "cell_type": "code",
   "execution_count": 36,
   "id": "6e1f98dd-d01a-4e9a-b291-5e1afecf4903",
   "metadata": {},
   "outputs": [
    {
     "name": "stdout",
     "output_type": "stream",
     "text": [
      "True\n",
      "My name is bhavishya and i am studying python.\n",
      "my name are bhavarehya and i am studying python.\n",
      "my nzme is bhzvishyz znd i zm studying python.\n",
      "3\n",
      "5\n"
     ]
    }
   ],
   "source": [
    "string = \"my name is bhavishya and i am studying python.\"\n",
    "print(string.endswith(\"thon.\")) # returns true is string ends with substr\n",
    "print(string.capitalize()) # Capitalize first lettter of string and does not effect original string\n",
    "print(string.replace(\"is\",\"are\")) #replaces all occurences of old with new --> string.replace(old,new)\n",
    "print(string.replace(\"a\",\"z\"))\n",
    "print(string.find(\"name\")) # returns the first index of the first occurence\n",
    "print(string.count(\"a\")) # returns the number of letter or substr in a string"
   ]
  },
  {
   "cell_type": "raw",
   "id": "9502ad1f-5368-43a1-b3b6-fe009e8a5ceb",
   "metadata": {},
   "source": [
    "Practice Question "
   ]
  },
  {
   "cell_type": "raw",
   "id": "0ba863c0-9492-4f5f-be20-c352176812de",
   "metadata": {},
   "source": [
    "1. WAP to Input user's first name and print its length."
   ]
  },
  {
   "cell_type": "code",
   "execution_count": 37,
   "id": "5b48d439-2fc9-4430-adb4-66a3a32ebca1",
   "metadata": {},
   "outputs": [
    {
     "name": "stdin",
     "output_type": "stream",
     "text": [
      "enter your first name Bhavishya\n"
     ]
    },
    {
     "name": "stdout",
     "output_type": "stream",
     "text": [
      "length of fname is 9\n"
     ]
    }
   ],
   "source": [
    "fname = input(\"enter your first name\")\n",
    "print(\"length of fname is\", len(fname))"
   ]
  },
  {
   "cell_type": "raw",
   "id": "201ed619-3545-42e2-b168-3b60001c4ab9",
   "metadata": {},
   "source": [
    "2. WAP to find the occurence of '$' in a string."
   ]
  },
  {
   "cell_type": "code",
   "execution_count": 38,
   "id": "95298c88-7a6a-4a61-ba05-7f1376ac32ee",
   "metadata": {},
   "outputs": [
    {
     "name": "stdout",
     "output_type": "stream",
     "text": [
      "11\n"
     ]
    }
   ],
   "source": [
    "string = \"this is fun$\"\n",
    "print(string.find('$'))"
   ]
  },
  {
   "cell_type": "markdown",
   "id": "44113d17-ac3d-4a82-8621-4de7d80345e2",
   "metadata": {},
   "source": [
    "## Conditional Statements"
   ]
  },
  {
   "cell_type": "markdown",
   "id": "8a6a4bc8-1f80-44b6-a8f9-92895560d30c",
   "metadata": {},
   "source": [
    "### if-elif-else (SYNTAX)\n",
    "if(condition):\n",
    "    \n",
    "    Statement1\n",
    "    \n",
    "elif(condition):\n",
    "\n",
    "    Statement2\n",
    "\n",
    "elif(condition):\n",
    "\n",
    "    Statement3\n",
    "\n",
    "else:\n",
    "\n",
    "    Statement4\n",
    "- If statement is only executed when condition is true, if the condition is false then elif statements are executed and if all the ifs and elifs statement is false then else statement is executed.\n",
    "- There can be n no. of elif and without if you can not use elif syntax\n"
   ]
  },
  {
   "cell_type": "code",
   "execution_count": 42,
   "id": "399f564c-3e32-42c7-929f-4fb103335162",
   "metadata": {},
   "outputs": [
    {
     "name": "stdin",
     "output_type": "stream",
     "text": [
      "enter your marks 90\n"
     ]
    },
    {
     "name": "stdout",
     "output_type": "stream",
     "text": [
      "A\n"
     ]
    }
   ],
   "source": [
    "# Grade students based on marks\n",
    "grade = int(input(\"enter your marks\"))\n",
    "if(grade>=90):\n",
    "    print(\"A\")\n",
    "elif(grade >= 80 and grade <90):\n",
    "    print(\"B\")\n",
    "elif(grade >=70 and grade < 80):\n",
    "    print(\"C\")\n",
    "elif(grade >= 60 and grade < 70):\n",
    "    print(\"D\")\n",
    "else:\n",
    "    print(\"Fail\")"
   ]
  },
  {
   "cell_type": "markdown",
   "id": "dccf9db5-6437-4506-af80-a290df8f11f7",
   "metadata": {},
   "source": [
    "### nesting \n",
    "if (condition):\n",
    "\n",
    "    if(condition):\n",
    "\n",
    "        statement\n",
    "    \n",
    "    else:\n",
    "    \n",
    "        statement\n",
    "else:\n",
    "\n",
    "    statement"
   ]
  },
  {
   "cell_type": "code",
   "execution_count": 49,
   "id": "aec6e092-c581-4829-b92b-43e0a10c08ea",
   "metadata": {},
   "outputs": [
    {
     "name": "stdin",
     "output_type": "stream",
     "text": [
      "enter your age 89\n"
     ]
    },
    {
     "name": "stdout",
     "output_type": "stream",
     "text": [
      "you cannot drive\n"
     ]
    }
   ],
   "source": [
    "age = int(input(\"enter your age\"))\n",
    "if (age>18):\n",
    "    if (age>70):\n",
    "        print(\"you cannot drive\")\n",
    "    else:\n",
    "        print(\"you can drive\")\n",
    "else:\n",
    "    print(\"you can not drive\")"
   ]
  },
  {
   "cell_type": "raw",
   "id": "41f3a5c2-3d8b-48cd-ad77-e28f63187b29",
   "metadata": {},
   "source": [
    "Practice Questions"
   ]
  },
  {
   "cell_type": "raw",
   "id": "637a20f8-1dd7-4734-b8b9-503b21dc6a23",
   "metadata": {},
   "source": [
    "1. WAP to check if a number entered by the user is even or odd"
   ]
  },
  {
   "cell_type": "code",
   "execution_count": 50,
   "id": "57571d1b-caad-4f2a-a49e-9d376dfb57b7",
   "metadata": {},
   "outputs": [
    {
     "name": "stdin",
     "output_type": "stream",
     "text": [
      "enter the number 6\n"
     ]
    },
    {
     "name": "stdout",
     "output_type": "stream",
     "text": [
      "even\n"
     ]
    }
   ],
   "source": [
    "num = int (input(\"enter the number\"))\n",
    "if(num%2==0):\n",
    "    print(\"even\")\n",
    "else:\n",
    "    print(\"odd\")"
   ]
  },
  {
   "cell_type": "raw",
   "id": "7f46515b-f006-4e87-919c-19d6888f8c68",
   "metadata": {},
   "source": [
    "2. WAP to find the greatest of a 3 numbers entered by the user"
   ]
  },
  {
   "cell_type": "code",
   "execution_count": 52,
   "id": "edb63242-7bfd-4a42-b7b8-ddfa791dbae2",
   "metadata": {},
   "outputs": [
    {
     "name": "stdin",
     "output_type": "stream",
     "text": [
      "enter 1st number 3\n",
      "enter 2nd number 4\n",
      "enter 3rd number 5\n"
     ]
    },
    {
     "name": "stdout",
     "output_type": "stream",
     "text": [
      "greates number is 5\n"
     ]
    }
   ],
   "source": [
    "num1 = int(input(\"enter 1st number\"))\n",
    "num2 = int(input(\"enter 2nd number\"))\n",
    "num3 = int(input(\"enter 3rd number\"))\n",
    "if(num1>num2 and num1>num3):\n",
    "    print(\"greatest number is\", num1)\n",
    "elif(num2>num3 and num2>num3):\n",
    "    print(\"greatest number is\",num2)\n",
    "else:\n",
    "    print(\"greatest number is\",num3)"
   ]
  },
  {
   "cell_type": "raw",
   "id": "6b329328-b705-4f87-b53a-6f9c413e4ed1",
   "metadata": {},
   "source": [
    "3. WAP to check if a number is a multiple of 7 or not"
   ]
  },
  {
   "cell_type": "code",
   "execution_count": 53,
   "id": "eccf5e01-0cd1-4064-9a83-f07faf5bd7be",
   "metadata": {},
   "outputs": [
    {
     "name": "stdin",
     "output_type": "stream",
     "text": [
      "enter number 4\n"
     ]
    },
    {
     "name": "stdout",
     "output_type": "stream",
     "text": [
      "no\n"
     ]
    }
   ],
   "source": [
    "num = int(input(\"enter number\"))\n",
    "if(num%7==0):\n",
    "    print(\"yes\")\n",
    "else:\n",
    "    print(\"no\")"
   ]
  }
 ],
 "metadata": {
  "kernelspec": {
   "display_name": "Python 3 (ipykernel)",
   "language": "python",
   "name": "python3"
  },
  "language_info": {
   "codemirror_mode": {
    "name": "ipython",
    "version": 3
   },
   "file_extension": ".py",
   "mimetype": "text/x-python",
   "name": "python",
   "nbconvert_exporter": "python",
   "pygments_lexer": "ipython3",
   "version": "3.12.7"
  }
 },
 "nbformat": 4,
 "nbformat_minor": 5
}
